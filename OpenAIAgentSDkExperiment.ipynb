{
 "cells": [
  {
   "cell_type": "code",
   "execution_count": null,
   "id": "3cbdf68c-47ff-4ff1-8447-9829859df4ce",
   "metadata": {},
   "outputs": [],
   "source": [
    "!pip install openai-agents nest_asyncio"
   ]
  },
  {
   "cell_type": "code",
   "execution_count": 2,
   "id": "a4211ba1-0ef9-47b9-bcba-7621780c9cf6",
   "metadata": {},
   "outputs": [
    {
     "name": "stdout",
     "output_type": "stream",
     "text": [
      "true\n"
     ]
    }
   ],
   "source": [
    "from dotenv import load_dotenv\n",
    "import os\n",
    "\n",
    "# Load environment variables\n",
    "load_dotenv()\n",
    "\n",
    "api_key = os.getenv(\"OPENAI_API_KEY\")\n",
    "if api_key:\n",
    "    print(\"true\")\n",
    "else:\n",
    "    print(\"false\")"
   ]
  },
  {
   "cell_type": "code",
   "execution_count": 3,
   "id": "40aa141f-cdfa-4deb-8b4a-9a639203001f",
   "metadata": {},
   "outputs": [
    {
     "name": "stdout",
     "output_type": "stream",
     "text": [
      "I have compiled the latest AI technology news into a markdown file named `query_reply.md`. You can download it to view the detailed information.\n"
     ]
    }
   ],
   "source": [
    "import asyncio\n",
    "from agents import Agent, Runner, function_tool, WebSearchTool\n",
    "from agents.run_context import RunContextWrapper\n",
    "\n",
    "# Define a function tool to write data to a markdown file\n",
    "@function_tool\n",
    "async def write_to_markdown(ctx: RunContextWrapper, content: str, filename: str) -> str:\n",
    "    \"\"\"Writes the given content to a markdown file.\"\"\"\n",
    "    with open(filename, \"w\") as f:\n",
    "        f.write(content)\n",
    "    return f\"Data written to {filename}\"\n",
    "\n",
    "# Create the agent\n",
    "agent = Agent(\n",
    "    name=\"WebSearchAgent\",\n",
    "    instructions=\"Search the web for the user's query and write the results to a markdown file query_reply.md.\",\n",
    "    tools=[\n",
    "        WebSearchTool(),\n",
    "        write_to_markdown\n",
    "    ]\n",
    ")\n",
    "\n",
    "# Define the main function to run the agent\n",
    "async def main():\n",
    "    user_query = \"Latest news on AI technology\"\n",
    "    result = await Runner.run(agent, user_query)\n",
    "    print(result.final_output)\n",
    "\n",
    "# Run the main function\n",
    "await main()"
   ]
  },
  {
   "cell_type": "code",
   "execution_count": null,
   "id": "c460b960-a7f8-46aa-936f-854c3fa1ac14",
   "metadata": {},
   "outputs": [],
   "source": []
  }
 ],
 "metadata": {
  "kernelspec": {
   "display_name": "Python 3.13 (venv)",
   "language": "python",
   "name": "jupyter-env"
  },
  "language_info": {
   "codemirror_mode": {
    "name": "ipython",
    "version": 3
   },
   "file_extension": ".py",
   "mimetype": "text/x-python",
   "name": "python",
   "nbconvert_exporter": "python",
   "pygments_lexer": "ipython3",
   "version": "3.13.2"
  }
 },
 "nbformat": 4,
 "nbformat_minor": 5
}
